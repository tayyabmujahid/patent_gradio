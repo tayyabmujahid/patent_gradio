{
 "cells": [
  {
   "cell_type": "code",
   "execution_count": 1,
   "metadata": {
    "ExecuteTime": {
     "end_time": "2022-09-14T06:44:12.299021Z",
     "start_time": "2022-09-14T06:43:55.626957Z"
    }
   },
   "outputs": [],
   "source": [
    "from keybert import KeyBERT"
   ]
  },
  {
   "cell_type": "code",
   "execution_count": 3,
   "metadata": {
    "ExecuteTime": {
     "end_time": "2022-09-14T06:45:05.277508Z",
     "start_time": "2022-09-14T06:45:05.272928Z"
    }
   },
   "outputs": [],
   "source": [
    "abstract = 'A method for preparing a polygraphene membrane includes adding ' \\\n",
    "                        'graphite and sodium nitrate into sulfuric acid to form a first mixture; ' \\\n",
    "                        'adding potassium permanganate solution into the first mixture to form a ' \\\n",
    "                        'second mixture;adding hydrogen peroxide solution to the second mixture to ' \\\n",
    "                        'form a mixture including soluble manganese ions; filtering the mixture including ' \\\n",
    "                        'soluble manganese ions to form an aqueous suspension; centrifuging the aqueous suspension; ' \\\n",
    "                        'performing ultrasonication of the suspension to obtain graphene oxide sheets; ' \\\n",
    "                        'acylating the graphene oxide sheets to prepare an acylated graphene oxide sheet;' \\\n",
    "                        ' and polymerizing the acylated graphene oxide sheets to prepare polygraphene.'\n"
   ]
  },
  {
   "cell_type": "code",
   "execution_count": 6,
   "metadata": {
    "ExecuteTime": {
     "end_time": "2022-09-14T06:46:46.060919Z",
     "start_time": "2022-09-14T06:46:45.558503Z"
    }
   },
   "outputs": [],
   "source": [
    "kw_model = KeyBERT()\n",
    "keywords = kw_model.extract_keywords(abstract,keyphrase_ngram_range=(1, 2), stop_words=None)"
   ]
  },
  {
   "cell_type": "code",
   "execution_count": 7,
   "metadata": {
    "ExecuteTime": {
     "end_time": "2022-09-14T06:46:48.397219Z",
     "start_time": "2022-09-14T06:46:48.390526Z"
    }
   },
   "outputs": [
    {
     "data": {
      "text/plain": [
       "[('polygraphene membrane', 0.721),\n",
       " ('preparing polygraphene', 0.6997),\n",
       " ('prepare polygraphene', 0.6859),\n",
       " ('polygraphene', 0.6125),\n",
       " ('the graphene', 0.51)]"
      ]
     },
     "execution_count": 7,
     "metadata": {},
     "output_type": "execute_result"
    }
   ],
   "source": [
    "keywords"
   ]
  },
  {
   "cell_type": "code",
   "execution_count": 10,
   "metadata": {
    "ExecuteTime": {
     "end_time": "2022-09-14T07:07:41.672346Z",
     "start_time": "2022-09-14T07:07:41.264834Z"
    }
   },
   "outputs": [
    {
     "data": {
      "text/plain": [
       "[('filtering', 0.1074),\n",
       " ('manganese', 0.1231),\n",
       " ('preparing', 0.1615),\n",
       " ('ultrasonication', 0.189),\n",
       " ('graphene', 0.5073)]"
      ]
     },
     "execution_count": 10,
     "metadata": {},
     "output_type": "execute_result"
    }
   ],
   "source": [
    "keywords = kw_model.extract_keywords(abstract,keyphrase_ngram_range=(1, 1), stop_words='english',\n",
    "                                    use_maxsum=True, nr_candidates=20,top_n=5)\n",
    "keywords"
   ]
  },
  {
   "cell_type": "code",
   "execution_count": 12,
   "metadata": {
    "ExecuteTime": {
     "end_time": "2022-09-14T07:08:53.198078Z",
     "start_time": "2022-09-14T07:08:53.024979Z"
    }
   },
   "outputs": [
    {
     "data": {
      "text/plain": [
       "[('polygraphene membrane', 0.721),\n",
       " ('method preparing', 0.2305),\n",
       " ('performing ultrasonication', 0.1677),\n",
       " ('soluble manganese', 0.1305),\n",
       " ('filtering', 0.1074)]"
      ]
     },
     "execution_count": 12,
     "metadata": {},
     "output_type": "execute_result"
    }
   ],
   "source": [
    "keywords = kw_model.extract_keywords(abstract,keyphrase_ngram_range=(1, 2), stop_words='english',\n",
    "                                    use_mmr=True, diversity=0.7)\n",
    "keywords"
   ]
  },
  {
   "cell_type": "code",
   "execution_count": 13,
   "metadata": {
    "ExecuteTime": {
     "end_time": "2022-09-14T07:09:20.664553Z",
     "start_time": "2022-09-14T07:09:20.489679Z"
    }
   },
   "outputs": [
    {
     "data": {
      "text/plain": [
       "[('polygraphene membrane', 0.721),\n",
       " ('preparing polygraphene', 0.6997),\n",
       " ('prepare polygraphene', 0.6859),\n",
       " ('polygraphene', 0.6125),\n",
       " ('graphene', 0.5073)]"
      ]
     },
     "execution_count": 13,
     "metadata": {},
     "output_type": "execute_result"
    }
   ],
   "source": [
    "keywords = kw_model.extract_keywords(abstract,keyphrase_ngram_range=(1, 2), stop_words='english',\n",
    "                                    use_mmr=True, diversity=0.2)\n",
    "keywords"
   ]
  },
  {
   "cell_type": "code",
   "execution_count": null,
   "metadata": {},
   "outputs": [],
   "source": []
  }
 ],
 "metadata": {
  "kernelspec": {
   "display_name": "Python 3",
   "language": "python",
   "name": "python3"
  },
  "language_info": {
   "codemirror_mode": {
    "name": "ipython",
    "version": 3
   },
   "file_extension": ".py",
   "mimetype": "text/x-python",
   "name": "python",
   "nbconvert_exporter": "python",
   "pygments_lexer": "ipython3",
   "version": "3.7.6"
  },
  "toc": {
   "base_numbering": 1,
   "nav_menu": {},
   "number_sections": true,
   "sideBar": true,
   "skip_h1_title": false,
   "title_cell": "Table of Contents",
   "title_sidebar": "Contents",
   "toc_cell": false,
   "toc_position": {},
   "toc_section_display": true,
   "toc_window_display": false
  }
 },
 "nbformat": 4,
 "nbformat_minor": 1
}
