{
 "cells": [
  {
   "cell_type": "code",
   "execution_count": null,
   "metadata": {},
   "outputs": [],
   "source": []
  },
  {
   "cell_type": "code",
   "execution_count": null,
   "metadata": {
    "collapsed": true
   },
   "outputs": [],
   "source": [
    "\n",
    "\n",
    "abstract = 'A method for preparing a polygraphene membrane includes adding ' \\\n",
    "                        'graphite and sodium nitrate into sulfuric acid to form a first mixture; ' \\\n",
    "                        'adding potassium permanganate solution into the first mixture to form a ' \\\n",
    "                        'second mixture;adding hydrogen peroxide solution to the second mixture to ' \\\n",
    "                        'form a mixture including soluble manganese ions; filtering the mixture including ' \\\n",
    "                        'soluble manganese ions to form an aqueous suspension; centrifuging the aqueous suspension; ' \\\n",
    "                        'performing ultrasonication of the suspension to obtain graphene oxide sheets; ' \\\n",
    "                        'acylating the graphene oxide sheets to prepare an acylated graphene oxide sheet;' \\\n",
    "                        ' and polymerizing the acylated graphene oxide sheets to prepare polygraphene.'\n"
   ]
  }
 ],
 "metadata": {
  "kernelspec": {
   "display_name": "Python 3",
   "language": "python",
   "name": "python3"
  },
  "language_info": {
   "codemirror_mode": {
    "name": "ipython",
    "version": 3
   },
   "file_extension": ".py",
   "mimetype": "text/x-python",
   "name": "python",
   "nbconvert_exporter": "python",
   "pygments_lexer": "ipython3",
   "version": "3.7.6"
  },
  "toc": {
   "base_numbering": 1,
   "nav_menu": {},
   "number_sections": true,
   "sideBar": true,
   "skip_h1_title": false,
   "title_cell": "Table of Contents",
   "title_sidebar": "Contents",
   "toc_cell": false,
   "toc_position": {},
   "toc_section_display": true,
   "toc_window_display": false
  }
 },
 "nbformat": 4,
 "nbformat_minor": 1
}
